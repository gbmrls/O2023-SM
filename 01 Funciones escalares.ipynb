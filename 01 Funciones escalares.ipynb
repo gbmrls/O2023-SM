{
 "cells": [
  {
   "cell_type": "markdown",
   "metadata": {
    "colab_type": "text",
    "id": "8vITRYq-Tdwq"
   },
   "source": [
    "# Optimización de funciones escalares diferenciables con `SymPy`\n",
    "\n",
    "<img style=\"float: right; margin: 0px 0px 15px 15px;\" src=\"https://upload.wikimedia.org/wikipedia/commons/thumb/b/b6/Extrema_example_es.svg/1200px-Extrema_example_es.svg.png\" width=\"300px\" height=\"100px\" />\n",
    "\n",
    "- Mediante optimización se obtienen soluciones elegantes tanto en teoría como en ciertas aplicaciones. \n",
    "- La teoría de optimización usa elementos comenzando con cálculo elemental y álgebra lineal básica, y luego se extiende con análisis funcional y convexo.\n",
    "- Las aplicaciones en optimización involucran ciencia, ingeniería, economía, finanzas e industria.\n",
    "- El amplio y creciente uso de la optimización lo hace escencial para estudiantes y profesionales de cualquier rama de la ciencia y la tecnología.\n",
    "\n",
    "**Referencia:**\n",
    "- http://www.math.uwaterloo.ca/~hwolkowi//henry/reports/talks.d/t06talks.d/06msribirs.d/optimportance.shtml\n",
    "\n"
   ]
  },
  {
   "cell_type": "markdown",
   "metadata": {
    "colab_type": "text",
    "id": "gTdZipcKTdwz"
   },
   "source": [
    "<img style=\"float: right; margin: 0px 0px 15px 15px;\" src=\"https://upload.wikimedia.org/wikipedia/commons/thumb/e/e7/OpenStreetMap_routing_service.png/300px-OpenStreetMap_routing_service.png\" width=\"300px\" height=\"100px\" />\n",
    "\n",
    "### Algunas aplicaciones son:\n",
    "\n",
    "1. **Ingeniería:**\n",
    " - Encontrar la composición de equilibrio de una mezcla de diferentes átomos.\n",
    " - Planeación de ruta para un robot (o vehículo aéreo no tripulado).\n",
    " - Planeación de la mano de obra óptima en una construcción o planta de producción.\n",
    " - Análisis conformacional - Isomería conformacional en modelado molecular\n",
    " - Desempeño en fermentación de productos.\n",
    " - Estimación de parámetros en bioquímica e ingeniería metabólica.\n",
    " \n",
    " \n",
    "2. **Distribución óptima de recursos:**\n",
    " - Distribución de rutas de vuelo.\n",
    " - Encontrar una dieta óptima.\n",
    " - Planeación de ruta óptima.\n",
    " \n",
    " \n",
    "3. **Optimización financiera:**\n",
    " - Administración de riesgos.\n",
    " - Portafolios de inversión.\n",
    " - Problema de maximización de la utilidad.\n",
    " - la calibración de modelos de precios de opciones para datos de mercado\n",
    " - la optimización de la función de utilidad de un agente"
   ]
  },
  {
   "cell_type": "markdown",
   "metadata": {
    "colab_type": "text",
    "id": "iwfHYBvETdw5"
   },
   "source": [
    "### <p style=\"color:green;\">En esta clase veremos aspectos básicos de optimización. Específicamente, veremos cómo obtener máximos y mínimos de una función escalar de una variable (como en cálculo diferencial).</p>\n",
    "\n",
    "<img style=\"float: center\" src=\"https://matematicasies.com/local/cache-vignettes/L337xH278/extremos-77d0a.png\" width=\"400px\" height=\"100px\" />"
   ]
  },
  {
   "cell_type": "markdown",
   "metadata": {},
   "source": [
    "Mínimo local"
   ]
  },
  {
   "cell_type": "markdown",
   "metadata": {},
   "source": [
    "$$ f(c) < f(c \\pm a)   $$"
   ]
  },
  {
   "cell_type": "markdown",
   "metadata": {},
   "source": [
    "Mínimo global"
   ]
  },
  {
   "cell_type": "markdown",
   "metadata": {},
   "source": [
    "$$ f(c) < f(c \\pm a)   $$"
   ]
  },
  {
   "cell_type": "markdown",
   "metadata": {
    "colab_type": "text",
    "id": "7uLPJbcWTdxA"
   },
   "source": [
    "___\n",
    "## 0. Librerías que usaremos\n",
    "<img style=\"float: center\" src=\"https://upload.wikimedia.org/wikipedia/commons/thumb/4/4a/Python3-powered_hello-world.svg/1000px-Python3-powered_hello-world.svg.png\" width=\"300px\" height=\"100px\" />\n"
   ]
  },
  {
   "cell_type": "markdown",
   "metadata": {
    "colab_type": "text",
    "id": "Ik4wEfofTdxF"
   },
   "source": [
    "### 0.1 `NumPy`\n",
    "\n",
    "<img style=\"float: right; margin: 0px 0px 15px 15px;\" src=\"https://numpy.org/images/logos/numpy.svg\" width=\"300px\" height=\"100px\" />\n",
    "\n",
    "`NumPy` (Numerical Python) es la librería fundamental para computación científica (numérica) con `Python`. Contiene, entre otras cosas:\n",
    "- un objeto tipo arreglo N-dimensional muy poderoso\n",
    "- funciones sofisticadas\n",
    "- funciones de álgebra lineal, transformada de Fourier y números aleatorios.\n",
    "\n",
    "Por lo anterior, `NumPy` es de amplio uso entre la comunidad científica e ingenieril (por su manejo de cantidades vectoriales). De la misma manera, se usa para guardar datos. Para nuestros propósitos, se puede usar libremente.\n",
    "\n",
    "**Referencia:**\n",
    "- http://www.numpy.org/"
   ]
  },
  {
   "cell_type": "markdown",
   "metadata": {
    "colab_type": "text",
    "id": "9O6a9kpVTdxK"
   },
   "source": [
    "`NumPy` ya viene incluido en la instalación estándar de Anaconda por defecto. Para comenzar a usarlo, solo debemos de importarlo:"
   ]
  },
  {
   "cell_type": "markdown",
   "metadata": {
    "colab_type": "text",
    "id": "6Ccg3wKhTdxg"
   },
   "source": [
    "### 0.2 `SymPy`\n",
    "\n",
    "<img style=\"float: right; margin: 0px 0px 15px 15px;\" src=\"http://www.sympy.org/static/images/logo.png\" width=\"300px\" height=\"100px\" />\n",
    "\n",
    "`SymPy` (Symbolic Python) es una librería de `Python` para matemáticas simbólicas. Su objetivo es convertirse en un sistema de álgebra computacional con las mejores características, manteniendo el código lo más simple posible para que sea comprensible.\n",
    "\n",
    "**Referencia:**\n",
    "- http://www.sympy.org/en/index.html"
   ]
  },
  {
   "cell_type": "markdown",
   "metadata": {
    "colab_type": "text",
    "id": "T5bDWTY_Tdxl"
   },
   "source": [
    "`SymPy` ya viene incluido en la instalación estándar de Anaconda por defecto. Para comenzar a usarlo, solo debemos de importarlo:"
   ]
  },
  {
   "cell_type": "code",
   "execution_count": null,
   "metadata": {},
   "outputs": [],
   "source": []
  },
  {
   "cell_type": "code",
   "execution_count": null,
   "metadata": {},
   "outputs": [],
   "source": []
  },
  {
   "cell_type": "code",
   "execution_count": null,
   "metadata": {},
   "outputs": [],
   "source": []
  },
  {
   "cell_type": "markdown",
   "metadata": {},
   "source": [
    "# Simbólicos"
   ]
  },
  {
   "cell_type": "markdown",
   "metadata": {
    "colab_type": "text",
    "id": "gjOLQEXhTdx5"
   },
   "source": [
    "La funcionalidad de imprimir en formato LaTex que nos da `SymPy` mediante el proyecto `mathjax` hace de `SymPy` una herramienta muy atractiva..."
   ]
  },
  {
   "cell_type": "code",
   "execution_count": null,
   "metadata": {},
   "outputs": [],
   "source": []
  },
  {
   "cell_type": "code",
   "execution_count": null,
   "metadata": {},
   "outputs": [],
   "source": []
  },
  {
   "cell_type": "code",
   "execution_count": null,
   "metadata": {},
   "outputs": [],
   "source": []
  },
  {
   "cell_type": "markdown",
   "metadata": {
    "colab_type": "text",
    "id": "UrAXbps6Tdx-"
   },
   "source": [
    "Notar que en `SymPy` y en `NumPy` existen funciones con el mismo nombre, pero reciben tipos de datos diferentes..."
   ]
  },
  {
   "cell_type": "code",
   "execution_count": null,
   "metadata": {},
   "outputs": [],
   "source": []
  },
  {
   "cell_type": "markdown",
   "metadata": {
    "colab_type": "text",
    "id": "KeFOROWHTdyj"
   },
   "source": [
    "Explicar el uso de la sintaxis `from numpy import *` y sus peligros (**no recomendable**)."
   ]
  },
  {
   "cell_type": "code",
   "execution_count": null,
   "metadata": {},
   "outputs": [],
   "source": []
  },
  {
   "cell_type": "markdown",
   "metadata": {
    "colab_type": "text",
    "id": "PApadjXXTdy1"
   },
   "source": [
    "### 0.3 `PyPlot` de `matplotlib`\n",
    "\n",
    "<img style=\"float: right; margin: 0px 0px 15px 15px;\" src=\"https://matplotlib.org/_static/logo2.svg\" width=\"300px\" height=\"100px\" />\n",
    "\n",
    "El módulo `PyPlot` de la librería `matplotlib` contiene funciones que nos permite generar una gran cantidad de gráficas rápidamente. Las funciones de este módulo están escritas con el mismo nombre que las funciones para graficar en `Matlab`.\n",
    "\n",
    "**Referencia:**\n",
    "- https://matplotlib.org/api/pyplot_summary.html"
   ]
  },
  {
   "cell_type": "code",
   "execution_count": null,
   "metadata": {},
   "outputs": [],
   "source": []
  },
  {
   "cell_type": "code",
   "execution_count": null,
   "metadata": {},
   "outputs": [],
   "source": []
  },
  {
   "cell_type": "code",
   "execution_count": null,
   "metadata": {},
   "outputs": [],
   "source": []
  },
  {
   "cell_type": "markdown",
   "metadata": {
    "colab_type": "text",
    "id": "O8veHX8PTdzJ"
   },
   "source": [
    "## 1. Teorema de Fermat (análisis)\n",
    "\n",
    "Si una función $f(x)$ alcanza un máximo o mínimo local en $x=c$, y si la derivada $f'(c)$ existe en el punto $c$, entonces $f'(c) = 0$."
   ]
  },
  {
   "cell_type": "markdown",
   "metadata": {},
   "source": [
    "### Ejemplo\n",
    "\n",
    "$$ f(x) = -x^2 - 2 $$"
   ]
  },
  {
   "cell_type": "markdown",
   "metadata": {},
   "source": [
    "$$ f'(x) = -2x $$"
   ]
  },
  {
   "cell_type": "markdown",
   "metadata": {},
   "source": [
    "$$ f'(x) = 0 $$"
   ]
  },
  {
   "cell_type": "markdown",
   "metadata": {},
   "source": [
    "$$ -2x = 0 $$"
   ]
  },
  {
   "cell_type": "markdown",
   "metadata": {},
   "source": [
    "$$ x = 0 $$"
   ]
  },
  {
   "cell_type": "markdown",
   "metadata": {
    "colab_type": "text",
    "id": "ZEUcqZoPTdzO"
   },
   "source": [
    "### Ejemplo\n",
    "\n",
    "Sabemos que la función $f(x)=(x-2)^2$ tiene un mínimo global en $x=2$, pues\n",
    "\n",
    "$$f(x)=(x-2)^2\\geq0,\\qquad\\text{y}\\qquad f(x)=(x-2)^2=0 \\qquad\\text{si y solo si}\\qquad x=2.$$"
   ]
  },
  {
   "cell_type": "code",
   "execution_count": null,
   "metadata": {},
   "outputs": [],
   "source": []
  },
  {
   "cell_type": "code",
   "execution_count": null,
   "metadata": {},
   "outputs": [],
   "source": []
  },
  {
   "cell_type": "code",
   "execution_count": null,
   "metadata": {},
   "outputs": [],
   "source": []
  },
  {
   "cell_type": "markdown",
   "metadata": {
    "colab_type": "text",
    "id": "67SkgnjhTd1g"
   },
   "source": [
    "### **Otra manera de hacer lo anterior**\n",
    "\n",
    "Revisemos el concepto de función en `Python`"
   ]
  },
  {
   "cell_type": "code",
   "execution_count": null,
   "metadata": {},
   "outputs": [],
   "source": []
  },
  {
   "cell_type": "code",
   "execution_count": null,
   "metadata": {},
   "outputs": [],
   "source": []
  },
  {
   "cell_type": "code",
   "execution_count": null,
   "metadata": {},
   "outputs": [],
   "source": []
  },
  {
   "cell_type": "markdown",
   "metadata": {
    "colab_type": "text",
    "id": "nJKkfvTVTd2y"
   },
   "source": [
    "**El converso del teorema anterior no es cierto.**\n",
    "\n",
    "### Actividad\n",
    "Considere $g(x)=(x-2)^3$. \n",
    "- Usando `sympy`, muestre que $g'(2)=0$.\n",
    "- Sin embargo, descartar que $x=2$ es un extremo de $g(x)$ viendo su **gráfica**."
   ]
  },
  {
   "cell_type": "code",
   "execution_count": null,
   "metadata": {},
   "outputs": [],
   "source": []
  },
  {
   "cell_type": "code",
   "execution_count": null,
   "metadata": {},
   "outputs": [],
   "source": []
  },
  {
   "cell_type": "code",
   "execution_count": null,
   "metadata": {},
   "outputs": [],
   "source": []
  },
  {
   "cell_type": "markdown",
   "metadata": {
    "colab_type": "text",
    "id": "5cHqWJmcTd3A"
   },
   "source": [
    "## 2. Criterio de la segunda derivada\n",
    "\n",
    "Sea $f(x)$ una función tal que $f’(c)=0$ y cuya segunda derivada existe en un intervalo abierto que contiene a $c$.\n",
    "- Si $f’’(c)>0$, entonces $f(c)$ es un mínimo relativo.\n",
    "- Si $f’’(c)<0$, entonces $f(c)$ es un máximo relativo.\n",
    "- Si $f’’(c)=0$, entonces el criterio no decide. "
   ]
  },
  {
   "cell_type": "markdown",
   "metadata": {
    "colab_type": "text",
    "id": "l4NcYjskTd3G"
   },
   "source": [
    "### Ejemplo\n",
    "\n",
    "Mostrar, usando `sympy`, que la función $f(x)=(x-2)^2$ tiene un mínimo relativo en $x=2$.\n",
    "\n",
    "Ya vimos que $f'(2)=0$. Notemos que:"
   ]
  },
  {
   "cell_type": "code",
   "execution_count": null,
   "metadata": {},
   "outputs": [],
   "source": []
  },
  {
   "cell_type": "code",
   "execution_count": null,
   "metadata": {},
   "outputs": [],
   "source": []
  },
  {
   "cell_type": "code",
   "execution_count": null,
   "metadata": {},
   "outputs": [],
   "source": []
  },
  {
   "cell_type": "markdown",
   "metadata": {
    "colab_type": "text",
    "id": "IMiFjnaMTd32"
   },
   "source": [
    "Por tanto, por el criterio de la segunda derivada, $f(2)=0$ es un mínimo relativo (en efecto, el mínimo global)."
   ]
  },
  {
   "cell_type": "markdown",
   "metadata": {
    "colab_type": "text",
    "id": "LRddFOZBTd36"
   },
   "source": [
    "### Ejemplo\n",
    "¿Qué pasa con $g(x)=(x-2)^3$ al intentar utilizar el criterio de la segunda derivada? (usar `sympy`)."
   ]
  },
  {
   "cell_type": "markdown",
   "metadata": {
    "colab_type": "text",
    "id": "rQXsRXMZTd4k"
   },
   "source": [
    "Como $g''(2)=0$ entonces el criterio de la segunda derivada no concluye."
   ]
  },
  {
   "cell_type": "code",
   "execution_count": null,
   "metadata": {},
   "outputs": [],
   "source": []
  },
  {
   "cell_type": "code",
   "execution_count": null,
   "metadata": {},
   "outputs": [],
   "source": []
  },
  {
   "cell_type": "code",
   "execution_count": null,
   "metadata": {},
   "outputs": [],
   "source": []
  },
  {
   "cell_type": "markdown",
   "metadata": {},
   "source": [
    "### Ejemplo de sistema de ecuaciones"
   ]
  },
  {
   "cell_type": "markdown",
   "metadata": {},
   "source": [
    "$$ x + y = 4 $$\n",
    "\n",
    "$$ x - 3y = 7 $$"
   ]
  },
  {
   "cell_type": "code",
   "execution_count": null,
   "metadata": {},
   "outputs": [],
   "source": []
  },
  {
   "cell_type": "code",
   "execution_count": null,
   "metadata": {},
   "outputs": [],
   "source": []
  },
  {
   "cell_type": "code",
   "execution_count": null,
   "metadata": {},
   "outputs": [],
   "source": []
  },
  {
   "cell_type": "markdown",
   "metadata": {
    "colab_type": "text",
    "id": "EtrhIC04Td4n"
   },
   "source": [
    "### Actividad\n",
    "\n",
    "¿Qué pasa con $h(x)=(x-2)^4$ al intentar utilizar el criterio de la segunda derivada?."
   ]
  },
  {
   "cell_type": "code",
   "execution_count": null,
   "metadata": {},
   "outputs": [],
   "source": []
  },
  {
   "cell_type": "code",
   "execution_count": null,
   "metadata": {},
   "outputs": [],
   "source": []
  },
  {
   "cell_type": "code",
   "execution_count": null,
   "metadata": {},
   "outputs": [],
   "source": []
  },
  {
   "cell_type": "markdown",
   "metadata": {
    "colab_type": "text",
    "id": "ADXxt3lLTd43"
   },
   "source": [
    "## 3. Método para determinar extremos absolutos de una función continua y=f(x) en [a,b] \n",
    "\n",
    "- Determinar todos los valores críticos $c_1, c_2, c_3, \\dots, c_n$ en $(a,b)$.\n",
    "- Evaluar $f$ en todos los valores críticos y en los extremos $x=a$ y $x=b$.\n",
    "- El más grande y el más pequeño de los valores de la lista $f(a), f(b), f(c_1), f(c_2), \\dots, f(c_n)$ son el máximo absoluto y el mínimo absoluto, respectivamente, de $f$ en el intervalo $[a,b]$."
   ]
  },
  {
   "cell_type": "markdown",
   "metadata": {
    "colab_type": "text",
    "collapsed": true,
    "id": "HiedyU4lTd5B"
   },
   "source": [
    "### Ejemplo\n",
    "\n",
    "Determinar los extremos absolutos de $f(x)=x^2-2x+5$ en $\\left[0,3\\right]$.\n",
    "\n",
    "Obtenemos los puntos críticos de $f$ en $\\left[0,3\\right]$:"
   ]
  },
  {
   "cell_type": "code",
   "execution_count": null,
   "metadata": {},
   "outputs": [],
   "source": []
  },
  {
   "cell_type": "markdown",
   "metadata": {
    "colab_type": "text",
    "id": "wDmIoTF7Td5h"
   },
   "source": [
    "Evaluamos $f$ en los extremos y en los puntos críticos:"
   ]
  },
  {
   "cell_type": "code",
   "execution_count": null,
   "metadata": {},
   "outputs": [],
   "source": []
  },
  {
   "cell_type": "markdown",
   "metadata": {
    "colab_type": "text",
    "id": "iVZJEjM3Td6Q"
   },
   "source": [
    "### Actividad\n",
    "Determinar los valores extremos absolutos de  $f(x) = (x-3)^2(x+3)^2$ en el intervalo $[-4,\\,4]$, usando `sympy`. Mostrar en una gráfica."
   ]
  },
  {
   "cell_type": "code",
   "execution_count": null,
   "metadata": {},
   "outputs": [],
   "source": []
  },
  {
   "cell_type": "code",
   "execution_count": null,
   "metadata": {},
   "outputs": [],
   "source": []
  },
  {
   "cell_type": "code",
   "execution_count": null,
   "metadata": {},
   "outputs": [],
   "source": []
  },
  {
   "cell_type": "markdown",
   "metadata": {},
   "source": [
    "---\n",
    "1. **Resistencia de una viga**  Una viga de madera tiene una sección transversal rectangular de altura $h$ y ancho $w$. La resistencia $S$ de la viga es directamente proporcional al ancho y al cuadrado de su altura ($S=kwh^2$, donde $k$ es una constante de proporcionalidad). ¿Cuáles son las dimensiones de la viga más fuerte que puede cortarse a partir de un leño redondo de $24$ pulgadas de diámetro?"
   ]
  },
  {
   "cell_type": "code",
   "execution_count": 2,
   "metadata": {},
   "outputs": [
    {
     "data": {
      "image/png": "[encoded data removed]",
      "text/plain": [
       "<Figure size 640x480 with 1 Axes>"
      ]
     },
     "metadata": {},
     "output_type": "display_data"
    }
   ],
   "source": [
    "import numpy as np\n",
    "import matplotlib.pyplot as plt\n",
    "import matplotlib.patches as patches\n",
    "\n",
    "C = patches.Circle((0, 0),12, fill=False,color='brown',lw=4)\n",
    "S = patches.Rectangle((-9,-8),18,16,fill=False,color='k')\n",
    "ax = plt.gca()\n",
    "ax.add_artist(S)\n",
    "ax.add_artist(C)\n",
    "\n",
    "plt.text(0,8.5,'$w$')\n",
    "plt.text(9.5,0,'$h$')\n",
    "\n",
    "plt.plot([-9,9],[-8,8],'r--')\n",
    "plt.text(0,2,'$24$')\n",
    "\n",
    "plt.axis('equal')\n",
    "plt.ylim([-15,15])\n",
    "plt.axis('off')\n",
    "plt.show()"
   ]
  },
  {
   "cell_type": "markdown",
   "metadata": {},
   "source": [
    "---\n",
    "2. **Iluminación**  Una fuente luminosa se localiza sobre el centro de una mesa circular de $4 pies$ de diámetro. Encontrar la altura $h$ de la fuente luminosa de modo tal que la iluminación $I$ en el perímetro de la mesa sea máxima si $I=k(\\sin \\alpha)/s^2$, donde $s$ es la altura oblicua, $\\alpha$ es el ángulo al cual la luz incide sobre la mesa y $k$ es una constante (El valor de esta última constante es irrelevante para el problema, ya que no se pide el valor de la iluminación)."
   ]
  },
  {
   "cell_type": "code",
   "execution_count": 3,
   "metadata": {},
   "outputs": [
    {
     "data": {
      "image/png": "[encoded data removed]",
      "text/plain": [
       "<Figure size 640x480 with 1 Axes>"
      ]
     },
     "metadata": {},
     "output_type": "display_data"
    }
   ],
   "source": [
    "E = patches.Ellipse((0, 0),10, 3,fc='white',ec='brown')\n",
    "C = patches.Circle((0,10.5),0.5,color='y')\n",
    "a = patches.Arc((-5,0),2,2,theta2=60)\n",
    "p1 = patches.Rectangle((-5, -2),0.5, 2, fill=False,color='brown')\n",
    "p2 = patches.Rectangle((4.5, -2),0.5, 2, fill=False,color='brown')\n",
    "p3 = patches.Rectangle((-0.25, -3),0.5, 2, fill=False,color='brown')\n",
    "ax = plt.gca()\n",
    "ax.add_artist(p1)\n",
    "ax.add_artist(p2)\n",
    "ax.add_artist(p3)\n",
    "ax.add_artist(E)\n",
    "ax.add_artist(C)\n",
    "ax.add_artist(a)\n",
    "\n",
    "plt.text(2,5,'$s$')\n",
    "plt.text(0,3,'$h$')\n",
    "plt.text(-4,0.5,r'$\\alpha$')\n",
    "plt.text(-0.5,-1,'$4$ pies')\n",
    "\n",
    "plt.plot([-5,0,5],[0,10,0],'y--')\n",
    "plt.plot([-5,5],[0,0],'k--')\n",
    "plt.plot([0,0],[0,10],'k--')\n",
    "\n",
    "\n",
    "plt.axis('equal')\n",
    "plt.ylim([-3.1,12])\n",
    "plt.axis('off')\n",
    "plt.show()"
   ]
  },
  {
   "cell_type": "code",
   "execution_count": null,
   "metadata": {},
   "outputs": [],
   "source": []
  },
  {
   "cell_type": "markdown",
   "metadata": {},
   "source": [
    "3. **Fuerza mínima**  Se diseña un componente para deslizar un bloque de acero con peso $W=10 N$ a través de una mesa y sobre una canaleta. Se opone al movimiento del bloque una fuerza de fricción proporcional a su peso aparente (sea $k=0.1$ la constante de proporcionalidad). Determinar la fuerza mínima $f$ necesaria para deslizar el bloque y encontrar el valor correspondiente de $\\theta$.\n",
    "\n",
    "Ayudín: $f\\cos \\theta$ es la fuerza de dirección del movimiento, y $f\\sin\\theta$ es la fuerza que tiende a levantar el bloque. De tal modo, el peso aparente del bloque es $W-f\\sin\\theta$."
   ]
  },
  {
   "cell_type": "code",
   "execution_count": 4,
   "metadata": {},
   "outputs": [
    {
     "data": {
      "image/png": "[encoded data removed]",
      "text/plain": [
       "<Figure size 640x480 with 1 Axes>"
      ]
     },
     "metadata": {},
     "output_type": "display_data"
    }
   ],
   "source": [
    "W = patches.Rectangle((0, 2),0.8, 0.5, fill=False,color='k')\n",
    "a = patches.Arrow(0.8,2.25,1,0.5,width=0.1,color='k')\n",
    "arc = patches.Arc((0.8,2.25),1,1,theta2=30)\n",
    "ax = plt.gca()\n",
    "ax.add_artist(W)\n",
    "ax.add_artist(a)\n",
    "ax.add_artist(arc)\n",
    "\n",
    "plt.text(0.2,2.6,'$W$')\n",
    "plt.text(1.8,3,'$f$')\n",
    "plt.text(1.35,2.305,r'$\\theta$')\n",
    "\n",
    "plt.plot([1.8,2.8],[2.75,3.25],'k')\n",
    "plt.plot([0.8,2],[2.25,2.25],'k--')\n",
    "plt.plot([-1,-1,2,2],[0,2,2,0],'k')\n",
    "\n",
    "\n",
    "plt.axis('equal')\n",
    "plt.ylim([0,4])\n",
    "plt.axis('off')\n",
    "plt.show()"
   ]
  },
  {
   "cell_type": "markdown",
   "metadata": {},
   "source": [
    "$$ f \\cos{\\theta} = k(W - f \\sin{\\theta})$$"
   ]
  },
  {
   "cell_type": "markdown",
   "metadata": {},
   "source": [
    "$$ f \\cos{\\theta} = k(W - f \\sin{\\theta})$$"
   ]
  },
  {
   "cell_type": "markdown",
   "metadata": {},
   "source": [
    "$$ f \\cos{\\theta} = kW - kf \\sin{\\theta}$$"
   ]
  },
  {
   "cell_type": "markdown",
   "metadata": {},
   "source": [
    "$$ f \\cos{\\theta} + kf \\sin{\\theta}= kW $$"
   ]
  },
  {
   "cell_type": "markdown",
   "metadata": {},
   "source": [
    "$$ f ( \\cos{\\theta} + k \\sin{\\theta}) = kW$$"
   ]
  },
  {
   "cell_type": "markdown",
   "metadata": {},
   "source": [
    "$$ f = \\frac{kW}{ \\cos{\\theta} + k \\sin{\\theta}}$$"
   ]
  },
  {
   "cell_type": "code",
   "execution_count": null,
   "metadata": {},
   "outputs": [],
   "source": []
  },
  {
   "cell_type": "code",
   "execution_count": null,
   "metadata": {},
   "outputs": [],
   "source": []
  },
  {
   "cell_type": "code",
   "execution_count": null,
   "metadata": {},
   "outputs": [],
   "source": []
  },
  {
   "cell_type": "markdown",
   "metadata": {
    "colab_type": "text",
    "id": "e0CgigELTd6-"
   },
   "source": [
    "### En varias variables...\n",
    "\n",
    "El procedimiento es análogo. \n",
    "\n",
    "Si una función $f:\\mathbb{R}^n\\to\\mathbb{R}$ alcanza un máximo o mínimo local en $\\boldsymbol{x}=\\boldsymbol{c}\\in\\mathbb{R}^n$, y $f$ es diferenciable en el punto $\\boldsymbol{x}=\\boldsymbol{c}$, entonces $\\left.\\frac{\\partial f}{\\partial \\boldsymbol{x}}\\right|_{\\boldsymbol{x}=\\boldsymbol{c}}=\\boldsymbol{0}$ (todas las derivadas parciales en el punto $\\boldsymbol{x}=\\boldsymbol{c}$ son cero).\n",
    "\n",
    "**Criterio de la segunda derivada:** para ver si es máximo o mínimo, se toma la segunda derivada (matriz Hessiana) y se verifica definición negativa o positiva, respectivamente.\n",
    "\n",
    "Si se restringe a cierta región, hay ciertas técnicas. La más general, pero también la más compleja es la de **multiplicadores de Lagrange**."
   ]
  },
  {
   "cell_type": "markdown",
   "metadata": {
    "colab_type": "text",
    "id": "Gm1hrxEXTd7B"
   },
   "source": [
    "**Ejemplo:** Determinar los valores extremo de $z(x,y)= (x-3)^2 + (y+5)^2$ usando el criterio de la segunda derivada y corroborarlo con la gráfica."
   ]
  },
  {
   "cell_type": "code",
   "execution_count": null,
   "metadata": {},
   "outputs": [],
   "source": []
  }
 ],
 "metadata": {
  "colab": {
   "collapsed_sections": [],
   "name": "Funciones escalares.ipynb",
   "provenance": []
  },
  "kernelspec": {
   "display_name": "Python 3 (ipykernel)",
   "language": "python",
   "name": "python3"
  },
  "language_info": {
   "codemirror_mode": {
    "name": "ipython",
    "version": 3
   },
   "file_extension": ".py",
   "mimetype": "text/x-python",
   "name": "python",
   "nbconvert_exporter": "python",
   "pygments_lexer": "ipython3",
   "version": "3.9.12"
  }
 },
 "nbformat": 4,
 "nbformat_minor": 1
}
